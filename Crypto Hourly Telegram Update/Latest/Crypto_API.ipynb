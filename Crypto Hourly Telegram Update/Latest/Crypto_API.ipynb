{
  "cells": [
    {
      "cell_type": "code",
      "execution_count": 2,
      "metadata": {
        "id": "HZ1A_sUFKyzF"
      },
      "outputs": [],
      "source": [
        "import pywhatkit\n",
        "import requests"
      ]
    },
    {
      "cell_type": "code",
      "execution_count": 53,
      "metadata": {
        "colab": {
          "base_uri": "https://localhost:8080/"
        },
        "id": "5t-1GPanELmm",
        "outputId": "1fa0d64f-af04-4bb8-af5a-04c7abfdc728"
      },
      "outputs": [
        {
          "name": "stdout",
          "output_type": "stream",
          "text": [
            "Coin : BTC\n",
            "Price : 41250.255929449544\n",
            "Market Cap : 808609420614.9685\n",
            "24h Volume : 26482949119.99194\n",
            "===================================================\n",
            "Coin : ETH\n",
            "Price : 2487.830661155837\n",
            "Market Cap : 298980186449.5025\n",
            "24h Volume : 11428983145.103285\n",
            "===================================================\n",
            "Coin : FET\n",
            "Price : 0.6274156452501705\n",
            "Market Cap : 521808388.26614445\n",
            "24h Volume : 68761971.27073513\n",
            "===================================================\n",
            "Coin : INJ\n",
            "Price : 37.00330794812325\n",
            "Market Cap : 3135125827.1628366\n",
            "24h Volume : 156029619.16496673\n",
            "===================================================\n",
            "Coin : LUNA\n",
            "Price : 0.6672320597775175\n",
            "Market Cap : 424201817.8839206\n",
            "24h Volume : 50141352.50105784\n",
            "===================================================\n",
            "Coin : RIO\n",
            "Price : 0.6759178001535197\n",
            "Market Cap : 4439776.262671284\n",
            "24h Volume : 3973524.90186611\n",
            "===================================================\n",
            "Coin : WOO\n",
            "Price : 0.4099254986070525\n",
            "Market Cap : 742708370.1324775\n",
            "24h Volume : 23259512.34959561\n",
            "===================================================\n"
          ]
        }
      ],
      "source": [
        "endpoint = \"https://pro-api.coinmarketcap.com/v1/cryptocurrency/quotes/latest\"\n",
        "headers = { \"X-CMC_PRO_API_KEY\": \"3b74f096-0eb5-44f7-8e4b-29d351fc08a7\" }         # API Key\n",
        "params = { \"symbol\": \"BTC,ETH,RIO,FET,INJ,WOO,LUNA\" }                               # Coins\n",
        "response = requests.get(endpoint, headers=headers, params=params)\n",
        "data = response.json()\n",
        "\n",
        "if \"error\" in data:\n",
        "    print(\"Error:\", data[\"error\"])\n",
        "else:\n",
        "    for coin, coin_data in data[\"data\"].items():\n",
        "        print(f\"Coin : {coin}\")\n",
        "        print(f\"Price : {coin_data['quote']['USD']['price']}\")\n",
        "        print(f\"Market Cap : {coin_data['quote']['USD']['market_cap']}\")\n",
        "        print(f\"24h Volume : {coin_data['quote']['USD']['volume_24h']}\")\n",
        "        print(\"===================================================\")\n",
        "\n",
        "\n",
        "# if \"error\" in data:\n",
        "#     print(\"Error:\", data[\"error\"])\n",
        "# else:\n",
        "#     # BTC ka data\n",
        "#     print(\"===================================================\")\n",
        "#     rio_data = data[\"data\"][\"RIO\"]\n",
        "#     print(\"RIO - Realio Network\")\n",
        "#     print(\"Price:\", rio_data[\"quote\"][\"USD\"][\"price\"])\n",
        "#     print(\"Market Cap:\", rio_data[\"quote\"][\"USD\"][\"market_cap\"])\n",
        "#     print(\"24h Volume:\", rio_data[\"quote\"][\"USD\"][\"volume_24h\"])\n",
        "#     print(\"===================================================\")\n",
        "#     # BTC ka data\n",
        "#     btc_data = data[\"data\"][\"BTC\"]\n",
        "#     print(\"BTC - Bitcoin\")\n",
        "#     print(\"Price:\", btc_data[\"quote\"][\"USD\"][\"price\"])\n",
        "#     print(\"Market Cap:\", btc_data[\"quote\"][\"USD\"][\"market_cap\"])\n",
        "#     print(\"24h Volume:\", btc_data[\"quote\"][\"USD\"][\"volume_24h\"])\n",
        "#     print(\"===================================================\")\n",
        "#     # Access other details as needed (e.g., circulating_supply, volume_24h, etc.)"
      ]
    },
    {
      "cell_type": "code",
      "execution_count": 54,
      "metadata": {},
      "outputs": [
        {
          "name": "stdout",
          "output_type": "stream",
          "text": [
            "Coin : BTC\n",
            "Price : 41250.255929449544\n",
            "Market Cap : 808609420614.9685\n",
            "24h Volume : 26482949119.99194\n",
            "===================================\n",
            "Coin : ETH\n",
            "Price : 2487.830661155837\n",
            "Market Cap : 298980186449.5025\n",
            "24h Volume : 11428983145.103285\n",
            "===================================\n",
            "Coin : FET\n",
            "Price : 0.6274156452501705\n",
            "Market Cap : 521808388.26614445\n",
            "24h Volume : 68761971.27073513\n",
            "===================================\n",
            "Coin : INJ\n",
            "Price : 37.00330794812325\n",
            "Market Cap : 3135125827.1628366\n",
            "24h Volume : 156029619.16496673\n",
            "===================================\n",
            "Coin : LUNA\n",
            "Price : 0.6672320597775175\n",
            "Market Cap : 424201817.8839206\n",
            "24h Volume : 50141352.50105784\n",
            "===================================\n",
            "Coin : RIO\n",
            "Price : 0.6759178001535197\n",
            "Market Cap : 4439776.262671284\n",
            "24h Volume : 3973524.90186611\n",
            "===================================\n",
            "Coin : WOO\n",
            "Price : 0.4099254986070525\n",
            "Market Cap : 742708370.1324775\n",
            "24h Volume : 23259512.34959561\n",
            "===================================\n",
            "\n"
          ]
        }
      ],
      "source": [
        "msg = []\n",
        "for coin, coin_data in data[\"data\"].items():\n",
        "    msg=msg + (f\"Coin : {coin}\")+ \"\\n\" \n",
        "    msg = msg + (f\"Price : {coin_data['quote']['USD']['price']}\") + \"\\n\"\n",
        "    msg = msg + (f\"Market Cap : {coin_data['quote']['USD']['market_cap']}\") + \"\\n\"\n",
        "    msg = msg + (f\"24h Volume : {coin_data['quote']['USD']['volume_24h']}\") + \"\\n\"\n",
        "    msg = msg + (\"===================================\") + \"\\n\"\n",
        "\n",
        "    #print(f\"Coin : {coin}\")\n",
        "    #print(f\"Price : {coin_data['quote']['USD']['price']}\")\n",
        "    #print(f\"Market Cap : {coin_data['quote']['USD']['market_cap']}\")\n",
        "    #print(f\"24h Volume : {coin_data['quote']['USD']['volume_24h']}\")\n",
        "    #print(\"===================================================\")\n",
        "\n",
        "print(msg)"
      ]
    },
    {
      "cell_type": "code",
      "execution_count": 49,
      "metadata": {},
      "outputs": [
        {
          "name": "stdout",
          "output_type": "stream",
          "text": [
            "In 18 Seconds WhatsApp will open and after 30 Seconds Message will be Delivered!\n"
          ]
        }
      ],
      "source": [
        "#pywhatkit.start_server()\n",
        "phone_number1 = \"+92 320 0435945\"\n",
        "message = \"Ayo shawty. Test Message\"\n",
        "\n",
        "# Sending the WhatsApp Message\n",
        "#pywhatkit.sendwhatmsg_instantly(phone_number1, message)\n",
        "#pywhatkit.sendwhatmsg_instantly(\"+92 322 4428859\", \"Hello,Mama\")        \n",
        "\n",
        "pywhatkit.sendwhatmsg(\"+92 320 0435945\", msg, 18, 53, 30, True, 2)\n",
        "# Displaying a Success Message\n",
        "#print(\"WhatsApp message sent!\")"
      ]
    }
  ],
  "metadata": {
    "colab": {
      "provenance": []
    },
    "kernelspec": {
      "display_name": "Python 3",
      "name": "python3"
    },
    "language_info": {
      "codemirror_mode": {
        "name": "ipython",
        "version": 3
      },
      "file_extension": ".py",
      "mimetype": "text/x-python",
      "name": "python",
      "nbconvert_exporter": "python",
      "pygments_lexer": "ipython3",
      "version": "3.10.12"
    }
  },
  "nbformat": 4,
  "nbformat_minor": 0
}
